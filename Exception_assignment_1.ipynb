{
 "cells": [
  {
   "cell_type": "markdown",
   "metadata": {},
   "source": [
    "1Q.What is an Exception handling in python? Write the diffrence between Exception and Syntax Errors?"
   ]
  },
  {
   "cell_type": "markdown",
   "metadata": {},
   "source": [
    "ANS: In Python, an exception is like an unexpected problem that happens while your program is running. It could be anything from dividing by zero, trying to use the wrong type of data, or attempting to access an element that doesn't exist in a list.\n",
    "\n",
    "Exception: When an exception occurs, Python raises an error that can stop your program if it's not handled properly. But you can use a special structure called a \"try-except\" block to catch these exceptions and handle them gracefully. This way, your program won't crash, and you can display a custom message or take appropriate action\n",
    "\n",
    "Syntax Error: syntax errors, They occur when your code doesn't follow the correct Python rules. These errors happen before your program starts running, during the \"parsing\" phase. Syntax errors could be due to missing colons, incorrect indentation, or using undefined variables."
   ]
  },
  {
   "cell_type": "markdown",
   "metadata": {},
   "source": [
    "2Q. What happnens when an exception is not handled? Explain with an example.\n",
    "\n",
    "ANS:When an exception is not handled in Python, it means there's an error in the program that the code doesn't know how to deal with. Instead of gracefully handling the issue, the program stops running and shows an error message, which can be confusing for users."
   ]
  },
  {
   "cell_type": "code",
   "execution_count": 5,
   "metadata": {},
   "outputs": [
    {
     "name": "stdout",
     "output_type": "stream",
     "text": [
      "Error! division by zero\n"
     ]
    }
   ],
   "source": [
    "#Example:\n",
    "def divide_numbers(num1,num2):\n",
    "    return num1/num2\n",
    "try:\n",
    "    num1=int(input(\"Enter The First Number:\"))\n",
    "    num2=int(input(\"Enter The Second Number:\"))\n",
    "    result=divide_numbers(num1,num2)\n",
    "    print(\"{}/{}={}\".format(num1,num2,result))\n",
    "except ZeroDivisionError as e:\n",
    "    print(\"Error!\",e)\n",
    "except ValueError as e:\n",
    "    print(\"Error!\",e)\n",
    "\n",
    "    "
   ]
  },
  {
   "cell_type": "markdown",
   "metadata": {},
   "source": [
    "3Q.Which python statements are used to catch and handle exceptions? Explain with an example\n",
    "\n",
    "ANS:The try, except, else, and finally statements are used to catch and handle exceptions."
   ]
  },
  {
   "cell_type": "code",
   "execution_count": 4,
   "metadata": {},
   "outputs": [
    {
     "name": "stdout",
     "output_type": "stream",
     "text": [
      "Error! invalid literal for int() with base 10: 'abc'\n",
      "This Will Execute weather the condition is true or false\n"
     ]
    }
   ],
   "source": [
    "#Example:\n",
    "def divide_numbers(num1,num2):\n",
    "    return num1/num2\n",
    "try:\n",
    "    num1=int(input(\"Enter The First Number:\"))\n",
    "    num2=int(input(\"Enter The Second Number:\"))\n",
    "    result=divide_numbers(num1,num2)\n",
    "    print(\"{}/{}={}\".format(num1,num2,result))\n",
    "except ZeroDivisionError as e:\n",
    "    print(\"Error!\",e)\n",
    "except ValueError as e:\n",
    "    print(\"Error!\",e)\n",
    "else:\n",
    "    print(\"This Will execute when try block run with no errorr\")\n",
    "finally:\n",
    "    print(\"This Will Execute weather the condition is true or false\")"
   ]
  },
  {
   "cell_type": "markdown",
   "metadata": {},
   "source": [
    "Q4. Explain with an example\n",
    "a. try and else\n",
    "b.finally\n",
    "c.raise"
   ]
  },
  {
   "cell_type": "code",
   "execution_count": 7,
   "metadata": {},
   "outputs": [
    {
     "name": "stdout",
     "output_type": "stream",
     "text": [
      "Example 1:\n",
      "This will always be executed.\n",
      "Result: 5.0\n",
      "\n",
      "Example 2:\n",
      "Error: Cannot divide by zero. division by zero\n",
      "This will always be executed.\n",
      "Result: None\n",
      "\n",
      "Example 3:\n",
      "Number must be positive.\n"
     ]
    }
   ],
   "source": [
    "def divide_numbers(num1, num2):\n",
    "    try:\n",
    "        result = num1 / num2\n",
    "        return result\n",
    "    except ZeroDivisionError as e:\n",
    "        print(\"Error: Cannot divide by zero.\",e)\n",
    "    else:\n",
    "        print(\"Division successful.\")\n",
    "    finally:\n",
    "        print(\"This will always be executed.\")\n",
    "\n",
    "# Example 1: Successful division\n",
    "print(\"Example 1:\")\n",
    "result1 = divide_numbers(10, 2)\n",
    "print(\"Result:\", result1)\n",
    "\n",
    "# Example 2: Division by zero\n",
    "print(\"\\nExample 2:\")\n",
    "result2 = divide_numbers(10, 0)\n",
    "print(\"Result:\", result2)\n",
    "\n",
    "# Example 3: Using raise\n",
    "print(\"\\nExample 3:\")\n",
    "def check_positive_number(num):\n",
    "    if num < 0:\n",
    "        raise ValueError(\"Number must be positive.\")\n",
    "    else:\n",
    "        return num\n",
    "\n",
    "try:\n",
    "    num = int(input(\"Enter a positive number: \"))\n",
    "    positive_num = check_positive_number(num)\n",
    "    print(\"You entered a positive number:\", positive_num)\n",
    "except ValueError as e:\n",
    "    print(e)\n"
   ]
  },
  {
   "cell_type": "markdown",
   "metadata": {},
   "source": [
    "Q5.What are the custom exceptions in python? why do we need custom exceptions? Expain with an example.\n",
    "\n",
    "ANS:Custom exceptions in Python are user-defined error classes that allow you to create specific error messages for different situations in your code. They help make your code more organized, readable, and easier to debug."
   ]
  },
  {
   "cell_type": "code",
   "execution_count": 10,
   "metadata": {},
   "outputs": [
    {
     "name": "stdout",
     "output_type": "stream",
     "text": [
      "Insufficient funds. You cannot withdraw 700$, your balance is 500$.\n"
     ]
    }
   ],
   "source": [
    "class InsufficientFundsException(Exception):\n",
    "    def __init__(self, amount, balance):\n",
    "        self.amount = amount\n",
    "        self.balance = balance\n",
    "        super().__init__(\"Insufficient funds. You cannot withdraw {}$, your balance is {}$.\".format(amount,balance))\n",
    "\n",
    "def withdraw_from_account(amount, balance):\n",
    "    if amount > balance:\n",
    "        raise InsufficientFundsException(amount, balance)\n",
    "    # Perform the withdrawal operation here\n",
    "\n",
    "try:\n",
    "    account_balance = 500\n",
    "    withdrawal_amount = 700\n",
    "    withdraw_from_account(withdrawal_amount, account_balance)\n",
    "except InsufficientFundsException as e:\n",
    "    print(e)\n"
   ]
  },
  {
   "cell_type": "markdown",
   "metadata": {},
   "source": [
    "6Q.Create a custom exception class.use this class to handle an exception"
   ]
  },
  {
   "cell_type": "code",
   "execution_count": 12,
   "metadata": {},
   "outputs": [
    {
     "name": "stdout",
     "output_type": "stream",
     "text": [
      "Error: Cannot divide by zero.\n"
     ]
    }
   ],
   "source": [
    "class DivisionByZeroError(Exception):\n",
    "    def __init__(self):\n",
    "        super().__init__(\"Cannot divide by zero.\")\n",
    "\n",
    "def divide_numbers(num1, num2):\n",
    "    if num2 == 0:\n",
    "        raise DivisionByZeroError()\n",
    "    return num1 / num2\n",
    "\n",
    "# Example usage\n",
    "try:\n",
    "    num1 = 10\n",
    "    num2 = 0\n",
    "    result = divide_numbers(num1, num2)\n",
    "    print(\"Result:\", result)\n",
    "except DivisionByZeroError as e:\n",
    "    print(\"Error:\", e)\n"
   ]
  }
 ],
 "metadata": {
  "kernelspec": {
   "display_name": "Python 3",
   "language": "python",
   "name": "python3"
  },
  "language_info": {
   "codemirror_mode": {
    "name": "ipython",
    "version": 3
   },
   "file_extension": ".py",
   "mimetype": "text/x-python",
   "name": "python",
   "nbconvert_exporter": "python",
   "pygments_lexer": "ipython3",
   "version": "3.11.2"
  },
  "orig_nbformat": 4
 },
 "nbformat": 4,
 "nbformat_minor": 2
}
